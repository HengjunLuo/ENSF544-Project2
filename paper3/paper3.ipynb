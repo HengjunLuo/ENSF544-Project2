{
 "cells": [
  {
   "cell_type": "markdown",
   "metadata": {},
   "source": [
    "# Supervised Machine Learning Models for Prediction of COVID‐19 Infection using Epidemiology Dataset"
   ]
  },
  {
   "cell_type": "markdown",
   "metadata": {},
   "source": [
    "## Data Preprocessing"
   ]
  },
  {
   "cell_type": "code",
   "execution_count": 211,
   "metadata": {},
   "outputs": [
    {
     "data": {
      "text/html": [
       "<div>\n",
       "<style scoped>\n",
       "    .dataframe tbody tr th:only-of-type {\n",
       "        vertical-align: middle;\n",
       "    }\n",
       "\n",
       "    .dataframe tbody tr th {\n",
       "        vertical-align: top;\n",
       "    }\n",
       "\n",
       "    .dataframe thead th {\n",
       "        text-align: right;\n",
       "    }\n",
       "</style>\n",
       "<table border=\"1\" class=\"dataframe\">\n",
       "  <thead>\n",
       "    <tr style=\"text-align: right;\">\n",
       "      <th></th>\n",
       "      <th>Age</th>\n",
       "      <th>Sex</th>\n",
       "      <th>Pneumonia</th>\n",
       "      <th>Diabetes</th>\n",
       "      <th>Asthma</th>\n",
       "      <th>Hypertension</th>\n",
       "      <th>CVDs</th>\n",
       "      <th>Obesity</th>\n",
       "      <th>CKDs</th>\n",
       "      <th>Tobacco</th>\n",
       "      <th>Result</th>\n",
       "    </tr>\n",
       "  </thead>\n",
       "  <tbody>\n",
       "    <tr>\n",
       "      <th>0</th>\n",
       "      <td>74</td>\n",
       "      <td>1</td>\n",
       "      <td>0</td>\n",
       "      <td>1</td>\n",
       "      <td>0</td>\n",
       "      <td>1</td>\n",
       "      <td>0</td>\n",
       "      <td>1</td>\n",
       "      <td>0</td>\n",
       "      <td>0</td>\n",
       "      <td>0</td>\n",
       "    </tr>\n",
       "    <tr>\n",
       "      <th>1</th>\n",
       "      <td>71</td>\n",
       "      <td>0</td>\n",
       "      <td>0</td>\n",
       "      <td>1</td>\n",
       "      <td>0</td>\n",
       "      <td>1</td>\n",
       "      <td>0</td>\n",
       "      <td>1</td>\n",
       "      <td>0</td>\n",
       "      <td>1</td>\n",
       "      <td>0</td>\n",
       "    </tr>\n",
       "    <tr>\n",
       "      <th>2</th>\n",
       "      <td>50</td>\n",
       "      <td>1</td>\n",
       "      <td>1</td>\n",
       "      <td>0</td>\n",
       "      <td>0</td>\n",
       "      <td>0</td>\n",
       "      <td>0</td>\n",
       "      <td>0</td>\n",
       "      <td>0</td>\n",
       "      <td>0</td>\n",
       "      <td>1</td>\n",
       "    </tr>\n",
       "    <tr>\n",
       "      <th>3</th>\n",
       "      <td>25</td>\n",
       "      <td>0</td>\n",
       "      <td>0</td>\n",
       "      <td>0</td>\n",
       "      <td>0</td>\n",
       "      <td>0</td>\n",
       "      <td>0</td>\n",
       "      <td>1</td>\n",
       "      <td>0</td>\n",
       "      <td>0</td>\n",
       "      <td>1</td>\n",
       "    </tr>\n",
       "    <tr>\n",
       "      <th>4</th>\n",
       "      <td>28</td>\n",
       "      <td>0</td>\n",
       "      <td>0</td>\n",
       "      <td>0</td>\n",
       "      <td>0</td>\n",
       "      <td>0</td>\n",
       "      <td>0</td>\n",
       "      <td>0</td>\n",
       "      <td>0</td>\n",
       "      <td>0</td>\n",
       "      <td>0</td>\n",
       "    </tr>\n",
       "    <tr>\n",
       "      <th>...</th>\n",
       "      <td>...</td>\n",
       "      <td>...</td>\n",
       "      <td>...</td>\n",
       "      <td>...</td>\n",
       "      <td>...</td>\n",
       "      <td>...</td>\n",
       "      <td>...</td>\n",
       "      <td>...</td>\n",
       "      <td>...</td>\n",
       "      <td>...</td>\n",
       "      <td>...</td>\n",
       "    </tr>\n",
       "    <tr>\n",
       "      <th>263002</th>\n",
       "      <td>39</td>\n",
       "      <td>1</td>\n",
       "      <td>0</td>\n",
       "      <td>0</td>\n",
       "      <td>0</td>\n",
       "      <td>0</td>\n",
       "      <td>0</td>\n",
       "      <td>0</td>\n",
       "      <td>0</td>\n",
       "      <td>0</td>\n",
       "      <td>1</td>\n",
       "    </tr>\n",
       "    <tr>\n",
       "      <th>263003</th>\n",
       "      <td>53</td>\n",
       "      <td>0</td>\n",
       "      <td>1</td>\n",
       "      <td>1</td>\n",
       "      <td>0</td>\n",
       "      <td>0</td>\n",
       "      <td>0</td>\n",
       "      <td>1</td>\n",
       "      <td>0</td>\n",
       "      <td>0</td>\n",
       "      <td>1</td>\n",
       "    </tr>\n",
       "    <tr>\n",
       "      <th>263004</th>\n",
       "      <td>65</td>\n",
       "      <td>0</td>\n",
       "      <td>0</td>\n",
       "      <td>1</td>\n",
       "      <td>0</td>\n",
       "      <td>1</td>\n",
       "      <td>0</td>\n",
       "      <td>0</td>\n",
       "      <td>1</td>\n",
       "      <td>0</td>\n",
       "      <td>1</td>\n",
       "    </tr>\n",
       "    <tr>\n",
       "      <th>263005</th>\n",
       "      <td>71</td>\n",
       "      <td>1</td>\n",
       "      <td>1</td>\n",
       "      <td>0</td>\n",
       "      <td>0</td>\n",
       "      <td>1</td>\n",
       "      <td>0</td>\n",
       "      <td>0</td>\n",
       "      <td>0</td>\n",
       "      <td>0</td>\n",
       "      <td>1</td>\n",
       "    </tr>\n",
       "    <tr>\n",
       "      <th>263006</th>\n",
       "      <td>18</td>\n",
       "      <td>0</td>\n",
       "      <td>0</td>\n",
       "      <td>0</td>\n",
       "      <td>0</td>\n",
       "      <td>0</td>\n",
       "      <td>0</td>\n",
       "      <td>0</td>\n",
       "      <td>0</td>\n",
       "      <td>0</td>\n",
       "      <td>1</td>\n",
       "    </tr>\n",
       "  </tbody>\n",
       "</table>\n",
       "<p>263007 rows × 11 columns</p>\n",
       "</div>"
      ],
      "text/plain": [
       "        Age  Sex  Pneumonia  Diabetes  Asthma  Hypertension  CVDs  Obesity  \\\n",
       "0        74    1          0         1       0             1     0        1   \n",
       "1        71    0          0         1       0             1     0        1   \n",
       "2        50    1          1         0       0             0     0        0   \n",
       "3        25    0          0         0       0             0     0        1   \n",
       "4        28    0          0         0       0             0     0        0   \n",
       "...     ...  ...        ...       ...     ...           ...   ...      ...   \n",
       "263002   39    1          0         0       0             0     0        0   \n",
       "263003   53    0          1         1       0             0     0        1   \n",
       "263004   65    0          0         1       0             1     0        0   \n",
       "263005   71    1          1         0       0             1     0        0   \n",
       "263006   18    0          0         0       0             0     0        0   \n",
       "\n",
       "        CKDs  Tobacco  Result  \n",
       "0          0        0       0  \n",
       "1          0        1       0  \n",
       "2          0        0       1  \n",
       "3          0        0       1  \n",
       "4          0        0       0  \n",
       "...      ...      ...     ...  \n",
       "263002     0        0       1  \n",
       "263003     0        0       1  \n",
       "263004     1        0       1  \n",
       "263005     0        0       1  \n",
       "263006     0        0       1  \n",
       "\n",
       "[263007 rows x 11 columns]"
      ]
     },
     "execution_count": 211,
     "metadata": {},
     "output_type": "execute_result"
    }
   ],
   "source": [
    "#import library:\n",
    "import matplotlib.pyplot as plt\n",
    "import numpy as np\n",
    "import pandas as pd\n",
    "from sklearn.model_selection import train_test_split\n",
    "from sklearn.linear_model import LogisticRegression\n",
    "from sklearn.naive_bayes import GaussianNB\n",
    "from sklearn.metrics import confusion_matrix, ConfusionMatrixDisplay\n",
    "from sklearn.metrics import accuracy_score\n",
    "from sklearn.tree import DecisionTreeClassifier\n",
    "\n",
    "# import data:\n",
    "source_file=\"mexico_covid19_en.csv\"\n",
    "dataset=pd.read_csv(source_file)\n",
    "# take useful Feature and target\n",
    "data=pd.DataFrame(dataset,columns=['Age','Sex','Pneumonia','Diabetes','Asthma','Hypertension','CVDs','Obesity','CKDs','Tobacco','Result'])\n",
    "# print(data)\n",
    "# in original 1=female 2=male\n",
    "# temp: 3=female, 2=male\n",
    "data.loc[data['Sex']==1,'Sex']=3\n",
    "\n",
    "# in this project, 0=female, 1=male\n",
    "data.loc[data['Sex']==3,'Sex']=0\n",
    "data.loc[data['Sex']==2,'Sex']=1\n",
    "\n",
    "# orignal 1=positive 2=negative\n",
    "#now 1=positive 0=negative\n",
    "data.loc[data['Pneumonia']==2,'Pneumonia']=0\n",
    "data.loc[data['Diabetes']==2,'Diabetes']=0\n",
    "data.loc[data['Asthma']==2,'Asthma']=0\n",
    "data.loc[data['Hypertension']==2,'Hypertension']=0\n",
    "data.loc[data['CVDs']==2,'CVDs']=0\n",
    "data.loc[data['Obesity']==2,'Obesity']=0\n",
    "data.loc[data['CKDs']==2,'CKDs']=0\n",
    "data.loc[data['Tobacco']==2,'Tobacco']=0\n",
    "data.loc[data['Result']==2,'Result']=0\n",
    "data\n"
   ]
  },
  {
   "cell_type": "markdown",
   "metadata": {},
   "source": [
    "### Data split"
   ]
  },
  {
   "cell_type": "code",
   "execution_count": 212,
   "metadata": {},
   "outputs": [
    {
     "name": "stdout",
     "output_type": "stream",
     "text": [
      "['Age' 'Sex' 'Pneumonia' 'Diabetes' 'Asthma' 'Hypertension' 'CVDs'\n",
      " 'Obesity' 'CKDs' 'Tobacco']\n"
     ]
    }
   ],
   "source": [
    "features=data.iloc[:,0:10]\n",
    "labels=data[\"Result\"]\n",
    "x_train, x_test, y_train, y_test = train_test_split(features,labels,test_size=0.20)\n",
    "\n",
    "print(features.columns.values)"
   ]
  },
  {
   "cell_type": "markdown",
   "metadata": {},
   "source": []
  },
  {
   "cell_type": "markdown",
   "metadata": {},
   "source": [
    "## Paper 3' models:"
   ]
  },
  {
   "cell_type": "markdown",
   "metadata": {},
   "source": [
    "### Model 1: Logistic Regression"
   ]
  },
  {
   "cell_type": "code",
   "execution_count": 213,
   "metadata": {},
   "outputs": [
    {
     "name": "stdout",
     "output_type": "stream",
     "text": [
      "The Accuracy score for LG is: \n",
      "0.6460590852058857\n",
      "The Sensitivity score for LG is: \n",
      "0.2554230994723471\n",
      "The Specificity score for LG is: \n",
      "0.8948776996327877\n"
     ]
    },
    {
     "name": "stderr",
     "output_type": "stream",
     "text": [
      "/Library/Frameworks/Python.framework/Versions/3.10/lib/python3.10/site-packages/sklearn/linear_model/_logistic.py:444: ConvergenceWarning: lbfgs failed to converge (status=1):\n",
      "STOP: TOTAL NO. of ITERATIONS REACHED LIMIT.\n",
      "\n",
      "Increase the number of iterations (max_iter) or scale the data as shown in:\n",
      "    https://scikit-learn.org/stable/modules/preprocessing.html\n",
      "Please also refer to the documentation for alternative solver options:\n",
      "    https://scikit-learn.org/stable/modules/linear_model.html#logistic-regression\n",
      "  n_iter_i = _check_optimize_result(\n"
     ]
    }
   ],
   "source": [
    "lg=LogisticRegression()\n",
    "lg.fit(x_train,y_train)\n",
    "\n",
    "lg_pred=lg.predict(x_test)\n",
    "# lgACC=accuracy_score(y_true=y_test,y_pred=lg_pred)\n",
    "# print(\"The Accuracy score for LG is: \")\n",
    "# print(lgACC)\n",
    "cm=confusion_matrix(y_true=y_test,y_pred=lg_pred)\n",
    "# cm_df = pd.DataFrame(cm, \n",
    "#             columns = ['Predicted Negative', 'Predicted Positive'],\n",
    "#             index = ['Actual Negative', 'Actual Positive'])\n",
    "# cm_df\n",
    "\n",
    "TP = cm[1][1]\n",
    "TN = cm[0][0]\n",
    "FP = cm[0][1]\n",
    "FN = cm[1][0]\n",
    "\n",
    "# Accuracy = (TP + TN) / All Predictions\n",
    "lgAcc=(float (TP+TN) / float(TP + TN + FP + FN))\n",
    "# Sensitivity = TP / (FN + TP)\n",
    "lgSen=(TP / float(TP + FN))\n",
    "# Specificity = TN / (TN + FP)\n",
    "lgSpe=TN / (TN + FP)\n",
    "\n",
    "print(\"The Accuracy score for LG is: \")\n",
    "print(lgAcc)\n",
    "print(\"The Sensitivity score for LG is: \")\n",
    "print(lgSen)\n",
    "print(\"The Specificity score for LG is: \")\n",
    "print(lgSpe)\n",
    "\n"
   ]
  },
  {
   "cell_type": "markdown",
   "metadata": {},
   "source": [
    "### Model 2: Naive Bayes"
   ]
  },
  {
   "cell_type": "code",
   "execution_count": 214,
   "metadata": {},
   "outputs": [
    {
     "name": "stdout",
     "output_type": "stream",
     "text": [
      "The Accuracy score for nb is: \n",
      "0.6121060035740086\n",
      "The Sensitivity score for nb is: \n",
      "0.010211061168653508\n",
      "The Specificity score for nb is: \n",
      "0.9954876454845335\n"
     ]
    }
   ],
   "source": [
    "nb=GaussianNB()\n",
    "nb.fit(x_train,y_train)\n",
    "# nbACC=nb.score(x_test,y_test)\n",
    "# print(\"The Accuracy score for NB is: \")\n",
    "# print(nbACC)\n",
    "\n",
    "nb_pred=nb.predict(x_test)\n",
    "cmnb=confusion_matrix(y_true=y_test,y_pred=nb_pred)\n",
    "\n",
    "TPnb = cmnb[1][1]\n",
    "TNnb = cmnb[0][0]\n",
    "FPnb = cmnb[0][1]\n",
    "FNnb = cmnb[1][0]\n",
    "\n",
    "# Accuracy = (TP + TN) / All Predictions\n",
    "nbAcc=(float (TPnb+TNnb) / float(TPnb + TNnb + FPnb + FNnb))\n",
    "# Sensitivity = TP / (FN + TP)\n",
    "nbSen=(TPnb / float(TPnb + FNnb))\n",
    "# Specificity = TN / (TN + FP)\n",
    "nbSpe=TNnb / (TNnb + FPnb)\n",
    "\n",
    "print(\"The Accuracy score for nb is: \")\n",
    "print(nbAcc)\n",
    "print(\"The Sensitivity score for nb is: \")\n",
    "print(nbSen)\n",
    "print(\"The Specificity score for nb is: \")\n",
    "print(nbSpe)\n"
   ]
  },
  {
   "cell_type": "markdown",
   "metadata": {},
   "source": []
  },
  {
   "cell_type": "markdown",
   "metadata": {},
   "source": [
    "### 3. Decision Tree (The one we choose for the report)"
   ]
  },
  {
   "cell_type": "code",
   "execution_count": 246,
   "metadata": {},
   "outputs": [
    {
     "name": "stdout",
     "output_type": "stream",
     "text": [
      "[[28038  4096]\n",
      " [14560  5908]]\n",
      "The Accuracy score for DT is: \n",
      "0.6453366792137181\n",
      "The Sensitivity score for DT is: \n",
      "0.28864569083447333\n",
      "The Specificity score for DT is: \n",
      "0.8725337648596502\n"
     ]
    }
   ],
   "source": [
    "dt=DecisionTreeClassifier()\n",
    "dt.fit(x_train,y_train)\n",
    "\n",
    "dt_pred=dt.predict(x_test)\n",
    "cmdt=confusion_matrix(y_true=y_test,y_pred=dt_pred)\n",
    "print(cmdt)\n",
    "\n",
    "TPdt = cmdt[1][1]\n",
    "TNdt = cmdt[0][0]\n",
    "FPdt = cmdt[0][1]\n",
    "FNdt = cmdt[1][0]\n",
    "\n",
    "# Accuracy = (TP + TN) / All Predictions\n",
    "dtAcc=(float (TPdt+TNdt) / float(TPdt + TNdt + FPdt + FNdt))\n",
    "# Sensitivity = TP / (FN + TP)\n",
    "dtSen=(TPdt / float(TPdt + FNdt))\n",
    "# Specificity = TN / (TN + FP)\n",
    "dtSpe=TNdt / (TNdt + FPdt)\n",
    "\n",
    "print(\"The Accuracy score for DT is: \")\n",
    "print(dtAcc)\n",
    "print(\"The Sensitivity score for DT is: \")\n",
    "print(dtSen)\n",
    "print(\"The Specificity score for DT is: \")\n",
    "print(dtSpe)\n"
   ]
  },
  {
   "cell_type": "code",
   "execution_count": 216,
   "metadata": {},
   "outputs": [
    {
     "data": {
      "text/plain": [
       "<sklearn.metrics._plot.confusion_matrix.ConfusionMatrixDisplay at 0x1411c2e00>"
      ]
     },
     "execution_count": 216,
     "metadata": {},
     "output_type": "execute_result"
    },
    {
     "data": {
      "image/png": "[encoded data removed]",
      "text/plain": [
       "<Figure size 640x480 with 2 Axes>"
      ]
     },
     "metadata": {},
     "output_type": "display_data"
    }
   ],
   "source": [
    "disp = ConfusionMatrixDisplay(confusion_matrix=cmdt)\n",
    "disp.plot()"
   ]
  },
  {
   "cell_type": "markdown",
   "metadata": {},
   "source": [
    "### Visulazition of Decision tree (too slow, we cancled it)"
   ]
  },
  {
   "cell_type": "code",
   "execution_count": 217,
   "metadata": {},
   "outputs": [],
   "source": [
    "# from sklearn.tree import plot_tree\n",
    "\n",
    "# fig = plt.figure(figsize=(15, 10))\n",
    "# plot_tree( dt,feature_names=features.columns.values ,\n",
    "#           class_names=\"Result\", \n",
    "#           filled=True, impurity=True, \n",
    "#           rounded=True)"
   ]
  },
  {
   "cell_type": "markdown",
   "metadata": {},
   "source": []
  },
  {
   "cell_type": "markdown",
   "metadata": {},
   "source": [
    "## My model: Puposed Modification"
   ]
  },
  {
   "cell_type": "markdown",
   "metadata": {},
   "source": [
    "## Data preprocessing (did not use in final)"
   ]
  },
  {
   "cell_type": "code",
   "execution_count": 218,
   "metadata": {},
   "outputs": [
    {
     "data": {
      "text/plain": [
       "array([[0.34166667, 0.        , 0.01010101, ..., 0.01020408, 0.        ,\n",
       "        0.        ],\n",
       "       [0.49166667, 0.        , 0.01010101, ..., 0.01020408, 0.        ,\n",
       "        0.        ],\n",
       "       [0.25833333, 1.        , 0.01010101, ..., 0.        , 0.        ,\n",
       "        0.        ],\n",
       "       ...,\n",
       "       [0.15833333, 0.        , 0.        , ..., 0.        , 0.        ,\n",
       "        0.        ],\n",
       "       [0.325     , 0.        , 0.        , ..., 0.01020408, 0.        ,\n",
       "        0.        ],\n",
       "       [0.39166667, 1.        , 0.        , ..., 0.        , 0.        ,\n",
       "        0.        ]])"
      ]
     },
     "execution_count": 218,
     "metadata": {},
     "output_type": "execute_result"
    }
   ],
   "source": [
    "from sklearn.ensemble import RandomForestClassifier\n",
    "from sklearn.model_selection import cross_val_score\n",
    "from sklearn import preprocessing\n",
    "from sklearn.neighbors import KNeighborsClassifier\n",
    "from sklearn.neural_network import MLPClassifier\n",
    "\n",
    "\n",
    "x_stand=preprocessing.scale(x_train)\n",
    "x_norm=preprocessing.normalize(x_train,norm='l2')\n",
    "minmax_scaler=preprocessing.MinMaxScaler(feature_range=(0,1))\n",
    "x_minmax=minmax_scaler.fit_transform(x_train)\n",
    "max_abs=preprocessing.MaxAbsScaler()\n",
    "x_maxab=max_abs.fit_transform(x_train)\n",
    "\n",
    "x_maxab"
   ]
  },
  {
   "cell_type": "markdown",
   "metadata": {},
   "source": [
    "## Random Forest"
   ]
  },
  {
   "cell_type": "code",
   "execution_count": 219,
   "metadata": {},
   "outputs": [
    {
     "name": "stdout",
     "output_type": "stream",
     "text": [
      "The Accuracy score for RM is: \n",
      "0.6540245618037337\n",
      "The Sensitivity score for RM is: \n",
      "0.27980261872190737\n",
      "The Specificity score for RM is: \n",
      "0.8923881247277028\n"
     ]
    }
   ],
   "source": [
    "\n",
    "# for i in range(1,15,1):\n",
    "rm=RandomForestClassifier(n_estimators=75,max_depth=11, min_samples_leaf=3 , min_samples_split=2 ,max_features=\"log2\" ,random_state=90)\n",
    "rm.fit(x_train,y_train);\n",
    "rm_pred=rm.predict(x_test)\n",
    "cmrm=confusion_matrix(y_true=y_test,y_pred=rm_pred)\n",
    "TPrm = cmrm[1][1]\n",
    "TNrm = cmrm[0][0]\n",
    "FPrm = cmrm[0][1]\n",
    "FNrm = cmrm[1][0]\n",
    "\n",
    "# Accuracy = (TP + TN) / All Predictions\n",
    "rmAcc=(float (TPrm+TNrm) / float(TPrm + TNrm + FPrm + FNrm))\n",
    "# Sensitivity = TP / (FN + TP)\n",
    "rmSen=(TPrm / float(TPrm + FNrm))\n",
    "# Specificity = TN / (TN + FP)\n",
    "rmSpe=TNrm / (TNrm + FPrm)\n",
    "print(\"The Accuracy score for RM is: \")\n",
    "print(rmAcc)\n",
    "print(\"The Sensitivity score for RM is: \")\n",
    "print(rmSen)\n",
    "print(\"The Specificity score for RM is: \")\n",
    "print(rmSpe)"
   ]
  },
  {
   "cell_type": "markdown",
   "metadata": {},
   "source": [
    "n_estimators=75 looks will create good number"
   ]
  },
  {
   "cell_type": "code",
   "execution_count": 220,
   "metadata": {},
   "outputs": [
    {
     "data": {
      "text/plain": [
       "<sklearn.metrics._plot.confusion_matrix.ConfusionMatrixDisplay at 0x142d52980>"
      ]
     },
     "execution_count": 220,
     "metadata": {},
     "output_type": "execute_result"
    },
    {
     "data": {
      "image/png": "[encoded data removed]",
      "text/plain": [
       "<Figure size 640x480 with 2 Axes>"
      ]
     },
     "metadata": {},
     "output_type": "display_data"
    }
   ],
   "source": [
    "disp1 = ConfusionMatrixDisplay(confusion_matrix=cmrm)\n",
    "disp1.plot()"
   ]
  },
  {
   "cell_type": "markdown",
   "metadata": {},
   "source": [
    "## KNN (not used in final)"
   ]
  },
  {
   "cell_type": "code",
   "execution_count": 221,
   "metadata": {},
   "outputs": [],
   "source": [
    "\n",
    "# for i in range (1,10,1):\n",
    "#     knn=KNeighborsClassifier(n_neighbors=i)\n",
    "#     knn.fit(x_train,y_train)\n",
    "\n",
    "#     knn_pred=knn.predict(x_test)\n",
    "#     print(knn_pred)\n",
    "\n",
    "\n",
    "#     cmknn=confusion_matrix(y_true=y_test,y_pred=knn_pred)\n",
    "#     TPknn = cmknn[1][1]\n",
    "#     TNknn = cmknn[0][0]\n",
    "#     FPknn = cmknn[0][1]\n",
    "#     FNknn = cmknn[1][0]\n",
    "\n",
    "#     # Accuracy = (TP + TN) / All Predictions\n",
    "#     knnAcc=(float (TPknn+TNknn) / float(TPknn + TNknn + FPknn + FNknn))\n",
    "#     # Sensitivity = TP / (FN + TP)\n",
    "#     knnSen=(TPknn / float(TPknn + FNknn))\n",
    "#     # Specificity = TN / (TN + FP)\n",
    "#     knnSpe=TNknn / (TNknn + FPknn)\n",
    "\n",
    "#     print(\"k = \"+str(i))\n",
    "#     print(\"The Accuracy score for knn is: \")\n",
    "#     print(knnAcc)\n",
    "#     print(\"The Sensitivity score for knn is: \")\n",
    "#     print(knnSen)\n",
    "#     print(\"The Specificity score for knn is: \")\n",
    "#     print(knnSpe)"
   ]
  },
  {
   "cell_type": "markdown",
   "metadata": {},
   "source": [
    "## tf test (not used in final)"
   ]
  },
  {
   "cell_type": "code",
   "execution_count": 222,
   "metadata": {},
   "outputs": [],
   "source": [
    "# import tensorflow as tf\n",
    "# from keras import layers as klayer\n",
    "# print(\"--Make model--\")\n",
    "\n",
    "# model = tf.keras.models.Sequential()     \n",
    "# # model.add(tf.keras.layers.Flatten())\n",
    "# model.add(tf.keras.layers.Dense(500, activation = \"relu\", use_bias= True))\n",
    "# model.add(tf.keras.layers.Dense(10, activation='sigmoid'))\n",
    "# model.compile(optimizer=tf.keras.optimizers.Adam(learning_rate=0.005), loss='sparse_categorical_crossentropy', metrics=['accuracy'])\n",
    "# print(\"--Fit model--\")\n",
    "# model.fit(x_train, y_train, epochs=1, verbose=1)\n",
    "# print(\"--Evaluate model--\")\n",
    "# model_loss1, model_acc1 = model.evaluate(x_train,  y_train, verbose=2)\n",
    "# model_loss2, model_acc2 = model.evaluate(x_test,  y_test, verbose=2)\n",
    "\n",
    "\n",
    "# print(f\"Train / Test Accuracy: {model_acc1*100:.1f}% / {model_acc2*100:.1f}%\")"
   ]
  },
  {
   "cell_type": "markdown",
   "metadata": {},
   "source": [
    "## mlp model test (not used in final)"
   ]
  },
  {
   "cell_type": "code",
   "execution_count": 224,
   "metadata": {},
   "outputs": [],
   "source": [
    "# mlp = MLPClassifier(activation='relu', solver='adam', max_iter=500)\n",
    "# mlp.fit(x_train,y_train)\n",
    "\n",
    "# mlp_pred=mlp.predict(x_test)\n",
    "\n",
    "# cmmlp=confusion_matrix(y_true=y_test,y_pred=mlp_pred)\n",
    "# TPmlp = cmmlp[1][1]\n",
    "# TNmlp = cmmlp[0][0]\n",
    "# FPmlp = cmmlp[0][1]\n",
    "# FNmlp = cmmlp[1][0]\n",
    "\n",
    "# # Accuracy = (TP + TN) / All Predictions\n",
    "# mlpAcc=(float (TPmlp+TNmlp) / float(TPmlp + TNmlp + FPmlp + FNmlp))\n",
    "# # Sensitivity = TP / (FN + TP)\n",
    "# mlpSen=(TPmlp / float(TPmlp + FNmlp))\n",
    "# # Specificity = TN / (TN + FP)\n",
    "# mlpSpe=TNmlp / (TNmlp + FPmlp)\n",
    "\n",
    "# print(\"The Accuracy score for mlp is: \")\n",
    "# print(mlpAcc)\n",
    "# print(\"The Sensitivity score for mlp is: \")\n",
    "# print(mlpSen)\n",
    "# print(\"The Specificity score for mlp is: \")\n",
    "# print(mlpSpe)"
   ]
  },
  {
   "cell_type": "markdown",
   "metadata": {},
   "source": [
    "### Try to find best n_estimators (with number increase 10):"
   ]
  },
  {
   "cell_type": "code",
   "execution_count": 225,
   "metadata": {},
   "outputs": [],
   "source": [
    "# # 调参，绘制学习曲线来调参n_estimators（对随机森林影响最大）\n",
    "# score_acc = []\n",
    "# score_sen=[]\n",
    "# score_spe=[]\n",
    "# score_aver=[]\n",
    "\n",
    "\n",
    "# # 每隔10步建立一个随机森林，获得不同n_estimators的得分\n",
    "# for i in range(0,200,10):\n",
    "#     rfc = RandomForestClassifier(n_estimators=i+1\n",
    "#                                 ,max_depth=11, min_samples_leaf=3 , min_samples_split=9 ,random_state=90)\n",
    "#     rfc.fit(x_train,y_train);\n",
    "#     rfc_pred=rfc.predict(x_test)\n",
    "#     cmrfc=confusion_matrix(y_true=y_test,y_pred=rfc_pred)\n",
    "#     TPrfc = cmrfc[1][1]\n",
    "#     TNrfc = cmrfc[0][0]\n",
    "#     FPrfc = cmrfc[0][1]\n",
    "#     FNrfc = cmrfc[1][0]\n",
    "\n",
    "#     # Accuracy = (TP + TN) / All Predictions\n",
    "#     rfcAcc=(float (TPrfc+TNrfc) / float(TPrfc + TNrfc + FPrfc + FNrfc))\n",
    "#     # Sensitivity = TP / (FN + TP)\n",
    "#     rfcSen=(TPrfc / float(TPrfc + FNrfc))\n",
    "#     # Specificity = TN / (TN + FP)\n",
    "#     rfcSpe=TNrfc / (TNrfc + FPrfc)\n",
    "\n",
    "#     avescore=1.3*rfcAcc+rfcSen+rfcSpe\n",
    "#     score_acc.append(rfcAcc)\n",
    "#     score_sen.append(rfcSen)\n",
    "#     score_spe.append(rfcSpe)\n",
    "#     score_aver.append(avescore)\n",
    "\n",
    "# score_accmax = max(score_acc)\n",
    "# print('The Max accurate number：{}'.format(score_accmax),\n",
    "#       'n_estimators：{}'.format(score_acc.index(score_accmax)*10+1))\n",
    "\n",
    "# # 绘制学习曲线\n",
    "# x = np.arange(1,201,10)\n",
    "# plt.subplot(111)\n",
    "# plt.plot(x, score_acc, 'r-')\n",
    "# plt.show()\n",
    "\n",
    "# score_senmax = max(score_sen)\n",
    "# print('The Max sensitive number：{}'.format(score_senmax),\n",
    "#       'n_estimators：{}'.format(score_sen.index(score_senmax)*10+1))\n",
    "\n",
    "# # 绘制学习曲线\n",
    "# x = np.arange(1,201,10)\n",
    "# plt.subplot(111)\n",
    "# plt.plot(x, score_sen, 'r-')\n",
    "# plt.show()\n",
    "\n",
    "# score_spemax = max(score_spe)\n",
    "# print('The Max specific number：{}'.format(score_spemax),\n",
    "#       'n_estimators：{}'.format(score_spe.index(score_spemax)*10+1))\n",
    "\n",
    "# # 绘制学习曲线\n",
    "# x = np.arange(1,201,10)\n",
    "# plt.subplot(111)\n",
    "# plt.plot(x, score_spe, 'r-')\n",
    "# plt.show()\n",
    "\n",
    "# score_avemax = max(score_aver)\n",
    "# print('The Max average number：{}'.format(score_avemax),\n",
    "#       'n_estimators：{}'.format(score_aver.index(score_avemax)*10+1))\n",
    "\n",
    "# # 绘制学习曲线\n",
    "# x = np.arange(1,201,10)\n",
    "# plt.subplot(111)\n",
    "# plt.plot(x, score_spe, 'r-')\n",
    "# plt.show()\n"
   ]
  },
  {
   "cell_type": "markdown",
   "metadata": {},
   "source": []
  },
  {
   "cell_type": "markdown",
   "metadata": {},
   "source": [
    "### Try to find best n_estimators (with number increase 1):"
   ]
  },
  {
   "cell_type": "code",
   "execution_count": 226,
   "metadata": {},
   "outputs": [],
   "source": [
    "# # 调参，绘制学习曲线来调参n_estimators（对随机森林影响最大）\n",
    "# score_acc = []\n",
    "# score_sen=[]\n",
    "# score_spe=[]\n",
    "\n",
    "\n",
    "# # 每隔10步建立一个随机森林，获得不同n_estimators的得分\n",
    "# for i in range(45,65,1):\n",
    "#     rfc = RandomForestClassifier(n_estimators=i+1\n",
    "#                                 ,random_state=90)\n",
    "#     rfc.fit(x_train,y_train);\n",
    "#     rfc_pred=rfc.predict(x_test)\n",
    "#     cmrfc=confusion_matrix(y_true=y_test,y_pred=rfc_pred)\n",
    "#     TPrfc = cmrfc[1][1]\n",
    "#     TNrfc = cmrfc[0][0]\n",
    "#     FPrfc = cmrfc[0][1]\n",
    "#     FNrfc = cmrfc[1][0]\n",
    "\n",
    "#     # Accuracy = (TP + TN) / All Predictions\n",
    "#     rfcAcc=(float (TPrfc+TNrfc) / float(TPrfc + TNrfc + FPrfc + FNrfc))\n",
    "#     # Sensitivity = TP / (FN + TP)\n",
    "#     rfcSen=(TPrfc / float(TPrfc + FNrfc))\n",
    "#     # Specificity = TN / (TN + FP)\n",
    "#     rfcSpe=TNrfc / (TNrfc + FPrfc)\n",
    "\n",
    "#     # print(\"The Accuracy score for RM is: \")\n",
    "#     # print(rmAcc)\n",
    "#     # print(\"The Sensitivity score for RM is: \")\n",
    "#     # print(rmSen)\n",
    "#     # print(\"The Specificity score for RM is: \")\n",
    "#     # print(rmSpe)\n",
    "#     # score = cross_val_score(rfc, x_train, y_train).mean()\n",
    "#     score_acc.append(rfcAcc)\n",
    "#     score_sen.append(rfcSen)\n",
    "#     score_spe.append(rfcSpe)\n",
    "\n",
    "# score_accmax = max(score_acc)\n",
    "# print('The Max accurate number：{}'.format(score_accmax),\n",
    "#       'n_estimators：{}'.format(score_acc.index(score_accmax)+46))\n",
    "\n",
    "# # 绘制学习曲线\n",
    "# x = np.arange(46,66,1)\n",
    "# plt.subplot(111)\n",
    "# plt.plot(x, score_acc, 'r-')\n",
    "# plt.show()\n",
    "\n",
    "# score_senmax = max(score_sen)\n",
    "# print('The Max sensitive number：{}'.format(score_senmax),\n",
    "#       'n_estimators：{}'.format(score_sen.index(score_senmax)+46))\n",
    "\n",
    "# # 绘制学习曲线\n",
    "# x = np.arange(46,66,1)\n",
    "# plt.subplot(111)\n",
    "# plt.plot(x, score_sen, 'r-')\n",
    "# plt.show()\n",
    "\n",
    "# score_spemax = max(score_spe)\n",
    "# print('The Max specific number：{}'.format(score_spemax),\n",
    "#       'n_estimators：{}'.format(score_spe.index(score_spemax)+46))\n",
    "\n",
    "# # 绘制学习曲线\n",
    "# x = np.arange(46,66,1)\n",
    "# plt.subplot(111)\n",
    "# plt.plot(x, score_spe, 'r-')\n",
    "# plt.show()\n"
   ]
  }
 ],
 "metadata": {
  "kernelspec": {
   "display_name": "Python 3.10.7 64-bit",
   "language": "python",
   "name": "python3"
  },
  "language_info": {
   "codemirror_mode": {
    "name": "ipython",
    "version": 3
   },
   "file_extension": ".py",
   "mimetype": "text/x-python",
   "name": "python",
   "nbconvert_exporter": "python",
   "pygments_lexer": "ipython3",
   "version": "3.10.7"
  },
  "orig_nbformat": 4,
  "vscode": {
   "interpreter": {
    "hash": "aee8b7b246df8f9039afb4144a1f6fd8d2ca17a180786b69acc140d282b71a49"
   }
  }
 },
 "nbformat": 4,
 "nbformat_minor": 2
}
